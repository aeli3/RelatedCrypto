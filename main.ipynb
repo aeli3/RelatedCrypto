{
 "cells": [
  {
   "cell_type": "markdown",
   "metadata": {},
   "source": [
    "# Crypto Similarity\n",
    "Finds similar projects when given a crypto currency.\n",
    "Makes use of TF-IDF vectorizer and cosine similiarity. Run all cells and select your coin of interest in the selection box below"
   ]
  },
  {
   "cell_type": "code",
   "execution_count": 4,
   "metadata": {},
   "outputs": [
    {
     "name": "stderr",
     "output_type": "stream",
     "text": [
      "Enabling notebook extension jupyter-js-widgets/extension...\n",
      "      - Validating: ok\n"
     ]
    },
    {
     "name": "stdout",
     "output_type": "stream",
     "text": [
      "pipreqs  --savepath .\\requirements.txt C:\\Users\\Ali\\Desktop\\Crypto associater\\__temp_pipreqsnb_folder\n"
     ]
    },
    {
     "name": "stderr",
     "output_type": "stream",
     "text": [
      "'pipreqs' is not recognized as an internal or external command,\n",
      "operable program or batch file.\n"
     ]
    }
   ],
   "source": [
    "import pandas as pd \n",
    "import requests\n",
    "import re \n",
    "import nltk\n",
    "from nltk.stem import WordNetLemmatizer \n",
    "import numpy as np\n",
    "import ipywidgets as widgets\n",
    "!jupyter nbextension enable widgetsnbextension --user --py"
   ]
  },
  {
   "cell_type": "code",
   "execution_count": 20,
   "metadata": {},
   "outputs": [],
   "source": [
    "# Load Data\n",
    "df = pd.read_csv(\"crypto_descriptions_final.csv\")"
   ]
  },
  {
   "cell_type": "code",
   "execution_count": 24,
   "metadata": {},
   "outputs": [],
   "source": [
    "# removes html tags, lemmatizes text and removes whitespaces.\n",
    "def clean_text(data):\n",
    "    lemmatizer = WordNetLemmatizer()\n",
    "    text = re.sub(re.compile('<.*?>') , '', data)\n",
    "    text = lemmatizer.lemmatize(text)\n",
    "    return text.rstrip()"
   ]
  },
  {
   "cell_type": "code",
   "execution_count": 25,
   "metadata": {},
   "outputs": [],
   "source": [
    "# Clean descriptions\n",
    "df['description'] = df['description'].apply(lambda x: clean_text(x))"
   ]
  },
  {
   "cell_type": "code",
   "execution_count": 26,
   "metadata": {},
   "outputs": [],
   "source": [
    "from sklearn.feature_extraction.text import TfidfVectorizer\n",
    "from sklearn.metrics.pairwise import cosine_similarity\n",
    "\n",
    "# create vocabulary and compute all similarities\n",
    "vectorizer = TfidfVectorizer()\n",
    "X = vectorizer.fit_transform(df['description'])\n",
    "\n",
    "arr = X.toarray()\n",
    "sim_matrix = cosine_similarity(arr)"
   ]
  },
  {
   "cell_type": "code",
   "execution_count": 38,
   "metadata": {},
   "outputs": [
    {
     "data": {
      "application/vnd.jupyter.widget-view+json": {
       "model_id": "9037a50dde844ab095179c8e73e3d2c5",
       "version_major": 2,
       "version_minor": 0
      },
      "text/plain": [
       "Combobox(value='bitcoin', ensure_option=True, options=('0-5x-long-algorand-token', '0-5x-long-altcoin-index-to…"
      ]
     },
     "metadata": {},
     "output_type": "display_data"
    },
    {
     "data": {
      "application/vnd.jupyter.widget-view+json": {
       "model_id": "c249d34772254fce88f158c97a64342c",
       "version_major": 2,
       "version_minor": 0
      },
      "text/plain": [
       "Output()"
      ]
     },
     "metadata": {},
     "output_type": "display_data"
    }
   ],
   "source": [
    "from IPython.display import display\n",
    "\n",
    "def similarCoins(coin, sim_matrix):\n",
    "    idx = df.index[df['id'] == coin].tolist()[0]\n",
    "    res = np.argpartition(sim_matrix[idx], -10)[-10:]\n",
    "    top10 = [df.iloc[x]['id'] for x in res]\n",
    "    return top10\n",
    "    \n",
    "output_coin = widgets.Output()\n",
    "def inputHandler(change):\n",
    "    output_coin.clear_output()\n",
    "    with output_coin:\n",
    "        display(similarCoins(change.new, sim_matrix))\n",
    "\n",
    "# input-widgets\n",
    "inp = widgets.Combobox(\n",
    "    # value='John',\n",
    "    placeholder='Choose coin',\n",
    "    options= tuple(df['id'].values),\n",
    "    value= 'bitcoin',\n",
    "    ensure_option=True,\n",
    "    disabled=False\n",
    ")\n",
    "\n",
    "inp.observe(inputHandler, names='value')\n",
    "display(inp)\n",
    "display(output_coin)"
   ]
  },
  {
   "cell_type": "code",
   "execution_count": null,
   "metadata": {},
   "outputs": [],
   "source": []
  }
 ],
 "metadata": {
  "kernelspec": {
   "display_name": "Python 3",
   "language": "python",
   "name": "python3"
  },
  "language_info": {
   "codemirror_mode": {
    "name": "ipython",
    "version": 3
   },
   "file_extension": ".py",
   "mimetype": "text/x-python",
   "name": "python",
   "nbconvert_exporter": "python",
   "pygments_lexer": "ipython3",
   "version": "3.9.0"
  }
 },
 "nbformat": 4,
 "nbformat_minor": 4
}
